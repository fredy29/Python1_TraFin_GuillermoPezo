{
  "nbformat": 4,
  "nbformat_minor": 0,
  "metadata": {
    "colab": {
      "name": "modulo 4.ipynb",
      "provenance": [],
      "include_colab_link": true
    },
    "kernelspec": {
      "name": "python3",
      "display_name": "Python 3"
    },
    "language_info": {
      "name": "python"
    }
  },
  "cells": [
    {
      "cell_type": "markdown",
      "metadata": {
        "id": "view-in-github",
        "colab_type": "text"
      },
      "source": [
        "<a href=\"https://colab.research.google.com/github/fredy29/Python1_TraFin_GuillermoPezo/blob/main/modulo4/Estructura_de_datos.ipynb\" target=\"_parent\"><img src=\"https://colab.research.google.com/assets/colab-badge.svg\" alt=\"Open In Colab\"/></a>"
      ]
    },
    {
      "cell_type": "markdown",
      "source": [
        "<img src=\"https://www.ctic.uni.edu.pe/wp-content/uploads/2022/04/588px-x-348px-web-1.png\" alt=\"HTML5 Icon\" width=\"900\" height=\"350\" >"
      ],
      "metadata": {
        "id": "atsxxNXNyS0i"
      }
    },
    {
      "cell_type": "markdown",
      "source": [
        "<h1 align=center><font size = 5>UNIDAD IV - ESTRUCTURAS DE DATOS\n",
        "</font></h1>\n",
        "\n",
        "---"
      ],
      "metadata": {
        "id": "4p5vLlhHyXK5"
      }
    },
    {
      "cell_type": "markdown",
      "source": [
        "## Tabla de Contenidos\n",
        "\n",
        "<div class=\"alert alert-block alert-info\" style=\"margin-top: 20px\">\n",
        "\n",
        "<font size = 3>\n",
        "    \n",
        "1. <a href=\"#item31\">Trabajando con Listas numéricas</a>\n",
        "2. <a href=\"#item31\">Trabajando con slices</a>  \n",
        "3. <a href=\"#item31\">Tuplas</a>  \n",
        "4. <a href=\"#item31\">Diccionarios</a>  \n",
        "\n",
        "</font>\n",
        "</div>\n",
        "\n",
        "---"
      ],
      "metadata": {
        "id": "y0BfNj-RyguL"
      }
    },
    {
      "cell_type": "markdown",
      "source": [
        "---\n",
        "\n",
        "<b> Ejercicio 1</b>\n",
        "\n",
        "use un bucle **for** para imprimir los números del 1 al 20, inclusive.\n"
      ],
      "metadata": {
        "id": "v8l2iiax3w6L"
      }
    },
    {
      "cell_type": "code",
      "source": [
        "for value in range(1, 21):\n",
        "    print(value)"
      ],
      "metadata": {
        "id": "2z-GfLXdCx9c",
        "outputId": "4839685b-8bc8-4785-97ca-34e06b16bdc0",
        "colab": {
          "base_uri": "https://localhost:8080/"
        }
      },
      "execution_count": null,
      "outputs": [
        {
          "output_type": "stream",
          "name": "stdout",
          "text": [
            "1\n",
            "2\n",
            "3\n",
            "4\n",
            "5\n",
            "6\n",
            "7\n",
            "8\n",
            "9\n",
            "10\n",
            "11\n",
            "12\n",
            "13\n",
            "14\n",
            "15\n",
            "16\n",
            "17\n",
            "18\n",
            "19\n",
            "20\n"
          ]
        }
      ]
    },
    {
      "cell_type": "markdown",
      "source": [
        "---\n",
        "\n",
        "<b> Ejercicio 2</b>\n",
        "\n",
        "Haga una lista de los números del uno al millón y luego use un ciclo for para imprimir los números. (Si la salida tarda demasiado, deténgala presionando CTRL-C o cerrando la ventana de salida).\n"
      ],
      "metadata": {
        "id": "rYzzJUd64HR1"
      }
    },
    {
      "cell_type": "code",
      "source": [
        "numero = list(range(1, 1000000))\n",
        "for num in numero:\n",
        "    print(num)"
      ],
      "metadata": {
        "id": "ZVwi1SyRDGyS"
      },
      "execution_count": null,
      "outputs": []
    },
    {
      "cell_type": "markdown",
      "source": [
        "---\n",
        "\n",
        "<b> Ejercicio 3</b>\n",
        "\n",
        "Haga una lista de los números del uno al millón y luego use min() y max() para asegurarse de que su lista realmente comience en uno y termine en un millón. Además, use la función sum() para ver qué tan rápido Python puede agregar un millón de números.\n"
      ],
      "metadata": {
        "id": "2qrKdPpb4chR"
      }
    },
    {
      "cell_type": "code",
      "source": [
        "my_list = list(range(1,1_000_001))\n",
        "\n",
        "print(min(my_list))\n",
        "print(max(my_list))\n",
        "\n",
        "star =time.time()\n",
        "sum(my_list)\n",
        "elapsed = time.time() - start\n",
        "print (f'process elapsed {elapsed} seconds')"
      ],
      "metadata": {
        "id": "J9HK0l8yEfVe",
        "outputId": "f4f3f5dc-0843-4e60-c43f-aef90f8dd945",
        "colab": {
          "base_uri": "https://localhost:8080/"
        }
      },
      "execution_count": null,
      "outputs": [
        {
          "output_type": "stream",
          "name": "stdout",
          "text": [
            "1\n",
            "1000000\n",
            "process elapsed 941.6504757404327 seconds\n"
          ]
        }
      ]
    },
    {
      "cell_type": "markdown",
      "source": [
        "---\n",
        "\n",
        "<b> Ejercicio 4</b>\n",
        "\n",
        "Use el tercer argumento de la función range() para hacer una lista de los números impares del 1 al 20. Use un bucle for para imprimir cada número.\n"
      ],
      "metadata": {
        "id": "oizdiWqQ44qx"
      }
    },
    {
      "cell_type": "code",
      "source": [
        "for value in range(1, 20,2):\n",
        "    print(value)"
      ],
      "metadata": {
        "id": "KtlJpqZho686",
        "outputId": "9bd9cd5c-5008-422c-f0cc-0b3d99d67796",
        "colab": {
          "base_uri": "https://localhost:8080/"
        }
      },
      "execution_count": null,
      "outputs": [
        {
          "output_type": "stream",
          "name": "stdout",
          "text": [
            "1\n",
            "3\n",
            "5\n",
            "7\n",
            "9\n",
            "11\n",
            "13\n",
            "15\n",
            "17\n",
            "19\n"
          ]
        }
      ]
    },
    {
      "cell_type": "markdown",
      "source": [
        "---\n",
        "\n",
        "<b> Ejercicio 5</b>\n",
        "\n",
        "Haga una lista de los múltiplos de 3 de 3 a 30. Use un ciclo for para imprimir los números en su lista.\n"
      ],
      "metadata": {
        "id": "yK9dmJJi5W6W"
      }
    },
    {
      "cell_type": "code",
      "source": [
        "for value in range(3, 30,3):\n",
        "    print(value)"
      ],
      "metadata": {
        "id": "LNjrchQGptvn",
        "outputId": "f5643c9c-c6c1-49d1-d9ad-c0ce296ef721",
        "colab": {
          "base_uri": "https://localhost:8080/"
        }
      },
      "execution_count": null,
      "outputs": [
        {
          "output_type": "stream",
          "name": "stdout",
          "text": [
            "3\n",
            "6\n",
            "9\n",
            "12\n",
            "15\n",
            "18\n",
            "21\n",
            "24\n",
            "27\n"
          ]
        }
      ]
    },
    {
      "cell_type": "markdown",
      "source": [
        "---\n",
        "\n",
        "<b> Ejercicio 6</b>\n",
        "\n",
        "Haga una lista de los primeros 10 cubos (es decir, el cubo de cada número entero del 1 al 10) y use un ciclo for para imprimir el valor de cada cubo.\n"
      ],
      "metadata": {
        "id": "qqdPT25k5d23"
      }
    },
    {
      "cell_type": "code",
      "source": [
        "for value in range(1, 10):\n",
        "    print(value*value*value)"
      ],
      "metadata": {
        "id": "6N2Pqb0dp8Oe",
        "outputId": "2b5c29e5-481b-4e80-e5e4-53091b06e40e",
        "colab": {
          "base_uri": "https://localhost:8080/"
        }
      },
      "execution_count": null,
      "outputs": [
        {
          "output_type": "stream",
          "name": "stdout",
          "text": [
            "1\n",
            "8\n",
            "27\n",
            "64\n",
            "125\n",
            "216\n",
            "343\n",
            "512\n",
            "729\n"
          ]
        }
      ]
    },
    {
      "cell_type": "markdown",
      "source": [
        "---\n",
        "\n",
        "<b> Ejercicio 7</b>\n",
        "\n",
        "Use una lista de comprensión para generar una lista de los primeros 10 cubos.\n",
        "\n",
        "---"
      ],
      "metadata": {
        "id": "MQfhaTOo59GS"
      }
    },
    {
      "cell_type": "code",
      "source": [
        "squares = [value**3 for value in range(1, 10)]\n",
        "print(squares)"
      ],
      "metadata": {
        "id": "a0WGHRbkrAJE",
        "outputId": "88034697-f08c-47ec-ae58-7a366653fb6a",
        "colab": {
          "base_uri": "https://localhost:8080/"
        }
      },
      "execution_count": null,
      "outputs": [
        {
          "output_type": "stream",
          "name": "stdout",
          "text": [
            "[1, 8, 27, 64, 125, 216, 343, 512, 729]\n"
          ]
        }
      ]
    },
    {
      "cell_type": "markdown",
      "source": [
        "---\n",
        "\n",
        "<b> Ejercicio 1</b>\n",
        "\n",
        "Utilizando alguna lista definida anteriormente:\n",
        "\n",
        "*   Imprima el mensaje **Los tres primeros elementos de la lista son:**. Luego use un slice para imprimir los primeros tres elementos de la lista de ese programa.\n",
        "\n",
        "*   Imprima el mensaje **Tres elementos de la mitad de la lista son:**. Use un slice para imprimir tres elementos del medio de la lista.\n",
        "\n",
        "*   Imprima el mensaje **Los últimos tres elementos de la lista son:**. Utilice un slice para imprimir los últimos tres elementos de la lista."
      ],
      "metadata": {
        "id": "H30p04iC93Ma"
      }
    },
    {
      "cell_type": "code",
      "source": [
        "my_list = ['Abel', 'Aldair', 'Cesar', 'Freed','Giancarlo']\n",
        "\n",
        "print (f'Los tres primeros elementos de la lista son: {my_list[:3]}')\n",
        "print (f'Tres elementos de la mitad de la lista son: {my_list[1:4]}')\n",
        "print (f'Los últimos tres elementos de la lista son: {my_list[2:]}')\n",
        "\n",
        "\n",
        "\n",
        "##print(\"\\nMis platillos favoritos son:\")\n",
        "##print(friend_foods)"
      ],
      "metadata": {
        "id": "tbt1_DKCHkm0",
        "outputId": "f00e197d-a442-49a1-b7cd-3cd1a564acc1",
        "colab": {
          "base_uri": "https://localhost:8080/"
        }
      },
      "execution_count": null,
      "outputs": [
        {
          "output_type": "stream",
          "name": "stdout",
          "text": [
            "Los tres primeros elementos de la lista son: ['Abel', 'Aldair', 'Cesar']\n",
            "Tres elementos de la mitad de la lista son: ['Aldair', 'Cesar', 'Freed']\n",
            "Los últimos tres elementos de la lista son: ['Cesar', 'Freed', 'Giancarlo']\n"
          ]
        }
      ]
    },
    {
      "cell_type": "markdown",
      "source": [
        "---\n",
        "\n",
        "<b> Ejercicio 2</b>\n",
        "\n",
        "Haga una copia de la lista de pizzas y llámela friend_pizzas. Luego, haz lo siguiente:\n",
        "\n",
        "* Agregue una nueva pizza a la lista original.\n",
        "* Agrega una pizza diferente a la lista friend_pizzas.\n",
        "* Demuestra que tienes dos listas separadas. Imprima el mensaje Mis pizzas favoritas son: y luego use un bucle for para imprimir la primera lista. Imprima el mensaje Las pizzas favoritas de mi amigo son: y luego use un bucle for para imprimir la segunda lista. Asegúrese de que cada pizza nueva se almacene en la lista adecuada."
      ],
      "metadata": {
        "id": "0SzOQQ7S_s1U"
      }
    },
    {
      "cell_type": "code",
      "source": [
        "my_pizzas = ['americana', 'hawaiana', 'vegetariana']\n",
        "friend_pizzas = my_pizzas[:]\n",
        "\n",
        "my_pizzas.append('carnivoro')\n",
        "friend_pizzas.append('bbq pollo')\n",
        "\n",
        "\n",
        "print(\"Mis pizzas favoritas son:\")\n",
        "for pizza in my_pizzas[:]:\n",
        "    print(pizza.title())\n",
        "\n",
        "print(\"\\nLas pizzas favoritas de mi amigo son:\")\n",
        "for pizza in friend_pizzas[:]:\n",
        "    print(pizza.title())    \n"
      ],
      "metadata": {
        "id": "S6pzVx6brXQe",
        "outputId": "38bddda8-3ccf-4455-c41d-b715b66fc5f5",
        "colab": {
          "base_uri": "https://localhost:8080/"
        }
      },
      "execution_count": null,
      "outputs": [
        {
          "output_type": "stream",
          "name": "stdout",
          "text": [
            "Mis pizzas favoritas son:\n",
            "Americana\n",
            "Hawaiana\n",
            "Vegetariana\n",
            "Carnivoro\n",
            "\n",
            "Las pizzas favoritas de mi amigo son:\n",
            "Americana\n",
            "Hawaiana\n",
            "Vegetariana\n",
            "Bbq Pollo\n"
          ]
        }
      ]
    },
    {
      "cell_type": "markdown",
      "source": [
        "---\n",
        "\n",
        "<b> Ejercicio 1</b>\n",
        "\n",
        "Un restaurante estilo buffet ofrece solo cinco alimentos básicos. Piense en cinco alimentos simples y guárdelos en una tupla.\n",
        "\n",
        "* Use un bucle for para imprimir cada comida que ofrece el restaurante.\n",
        "Intente modificar uno de los elementos y asegúrese de que Python rechace el cambio.\n",
        "* El restaurante cambia su menú, reemplazando dos de los artículos con comidas diferentes. Agregue una línea que reescriba la tupla y luego use un ciclo for para imprimir cada uno de los elementos en el menú revisado.\n",
        "\n",
        "---"
      ],
      "metadata": {
        "id": "WHk9FL9lDtBY"
      }
    },
    {
      "cell_type": "code",
      "source": [
        "my_menu = ('Aeropuerto', 'Ceviche', 'Aji de gallina', 'Carapulcra', 'Estofado')\n",
        "\n",
        "for x in my_menu:\n",
        "  print(f'Nuestro platillo es: {x}')\n",
        "\n",
        "my_menu = ('Tallarin Verde', 'Ceviche', 'Aji de gallina', 'Carapulcra', 'Pollo a la plancha')\n",
        "print(f'Nuestro platillo es: {x}')\n",
        "\n",
        "print('\\n')\n",
        "\n",
        "for x in my_menu:\n",
        "  print(f'Nuestro platillo es: {x}')\n"
      ],
      "metadata": {
        "id": "9rTrh86eQmmc",
        "outputId": "d9daea3d-1d2e-46b4-9372-92312a92bbe2",
        "colab": {
          "base_uri": "https://localhost:8080/"
        }
      },
      "execution_count": null,
      "outputs": [
        {
          "output_type": "stream",
          "name": "stdout",
          "text": [
            "Nuestro platillo es: Aeropuerto\n",
            "Nuestro platillo es: Ceviche\n",
            "Nuestro platillo es: Aji de gallina\n",
            "Nuestro platillo es: Carapulcra\n",
            "Nuestro platillo es: Estofado\n",
            "Nuestro platillo es: Estofado\n",
            "\n",
            "\n",
            "Nuestro platillo es: Tallarin Verde\n",
            "Nuestro platillo es: Ceviche\n",
            "Nuestro platillo es: Aji de gallina\n",
            "Nuestro platillo es: Carapulcra\n",
            "Nuestro platillo es: Pollo a la plancha\n"
          ]
        }
      ]
    },
    {
      "cell_type": "markdown",
      "source": [
        "---\n",
        "\n",
        "<b> Ejercicio 1</b>\n",
        "\n",
        "Usa un diccionario para almacenar información sobre una persona que conoces. Almacene su nombre, apellido, edad y la ciudad en la que vive. Debe tener claves como nombre, apellido, edad y ciudad. Imprima cada parte de información almacenada en su diccionario.\n",
        "\n"
      ],
      "metadata": {
        "id": "ctXa-OLlQaXn"
      }
    },
    {
      "cell_type": "code",
      "source": [
        "persona = {'nombre': 'Freed','apellido' : 'Pezo', 'edad':'52','ciudad' : 'Lima'}\n",
        "print('freed')"
      ],
      "metadata": {
        "id": "jFbybng8X_AA",
        "outputId": "b93713ac-353b-4f21-80d0-b0c442a2041f",
        "colab": {
          "base_uri": "https://localhost:8080/"
        }
      },
      "execution_count": null,
      "outputs": [
        {
          "output_type": "stream",
          "name": "stdout",
          "text": [
            "freed\n"
          ]
        }
      ]
    },
    {
      "cell_type": "markdown",
      "source": [
        "---\n",
        "\n",
        "<b> Ejercicio 2</b>\n",
        "\n",
        "Use un diccionario para almacenar los números favoritos de las personas. Piensa en cinco nombres y utilízalos como llaves en tu diccionario. Piense en un número favorito para cada persona y guárdelo como un valor en su diccionario. Escriba el nombre de cada persona y su número favorito. \n",
        "\n"
      ],
      "metadata": {
        "id": "7_krS5iiQ7KW"
      }
    },
    {
      "cell_type": "code",
      "source": [
        "numeros_favoritos = {\n",
        "    'freed': '1111',\n",
        "    'guicela': '2222',\n",
        "    'monica': '3333',\n",
        "    'sofia': '4444',\n",
        "    'barbara': '5555',\n",
        "    }\n",
        "\n",
        "print(numeros_favoritos)\n"
      ],
      "metadata": {
        "id": "AiYcVZjGyNAY",
        "outputId": "4e990da3-0089-466f-83a9-9b2bb3b7d459",
        "colab": {
          "base_uri": "https://localhost:8080/"
        }
      },
      "execution_count": null,
      "outputs": [
        {
          "output_type": "stream",
          "name": "stdout",
          "text": [
            "{'freed': '1111', 'guicela': '2222', 'monica': '3333', 'sofia': '4444', 'barbara': '5555'}\n"
          ]
        }
      ]
    },
    {
      "cell_type": "markdown",
      "source": [
        "---\n",
        "\n",
        "<b> Ejercicio 3</b>\n",
        "\n",
        "Piense en cinco palabras de programación que haya aprendido. Utilice estas palabras como llaves en su glosario y almacene sus significados como valores.\n",
        "\n",
        "Imprima cada palabra y su significado como una salida con un formato ordenado. Puede imprimir la palabra seguida de dos puntos y luego su significado, o imprimir la palabra en una línea y luego imprimir su significado con sangría en una segunda línea. Utilice el carácter de nueva línea (\\n) para insertar una línea en blanco entre cada par de palabra y significado en su salida.\n",
        "\n",
        "---"
      ],
      "metadata": {
        "id": "PmMzWA-nVOOi"
      }
    },
    {
      "cell_type": "code",
      "source": [
        "palabras_programacion = {\n",
        "    'while : ': 'Loop condicional se ejecuta primero',\n",
        "    'for : ': 'Loop se ejecuta por condicion',\n",
        "    'break : ': 'Para interrunpir un loop',\n",
        "    'if else : ': 'Condicional',\n",
        "    'print : ': 'imprimir un dato',\n",
        "    }\n",
        "\n",
        "for key, value in palabras_programacion.items():\n",
        "    print(f\"\\n{key}\")\n",
        "    print(f\"{value}\") "
      ],
      "metadata": {
        "id": "SfErWpfU4Si4",
        "outputId": "dffd7b0b-d7ec-48bc-9a16-71d4a650a70b",
        "colab": {
          "base_uri": "https://localhost:8080/"
        }
      },
      "execution_count": null,
      "outputs": [
        {
          "output_type": "stream",
          "name": "stdout",
          "text": [
            "\n",
            "while : \n",
            "Loop condicional se ejecuta primero\n",
            "\n",
            "for : \n",
            "Loop se ejecuta por condicion\n",
            "\n",
            "break : \n",
            "Para interrunpir un loop\n",
            "\n",
            "if else : \n",
            "Condicional\n",
            "\n",
            "print : \n",
            "imprimir un dato\n"
          ]
        }
      ]
    },
    {
      "cell_type": "markdown",
      "source": [
        "---\n",
        "\n",
        "<b> Ejercicio 1</b>\n",
        "\n",
        "Haga un diccionario que contenga tres ríos principales y el país por el que pasa cada río. Un par clave-valor podría ser 'nilo': 'egipto'.\n",
        "\n",
        "* Use un bucle para imprimir una oración sobre cada río, como El Nilo atraviesa Egipto.\n",
        "* Utilice un bucle para imprimir el nombre de cada río incluido en el diccionario.\n",
        "* Use un bucle para imprimir el nombre de cada país incluido en el diccionario.\n"
      ],
      "metadata": {
        "id": "Ov6u5MxIj2WA"
      }
    },
    {
      "cell_type": "code",
      "source": [
        "rios_principales = {\n",
        "    'nilo':'egipto',\n",
        "    'amazonas':'peru',\n",
        "    'de la plata':'argentina',\n",
        "    }\n",
        "\n",
        "for key, value in rios_principales.items():\n",
        "    print(f\"\\nEl {key} atraviesa {value}\")\n",
        "    ##print(f\"{value}\\n\")\n",
        "\n",
        "for key in rios_principales:\n",
        "    print(f\"\\n{key}\")\n",
        "\n",
        "for key,value in rios_principales.items():\n",
        "    print(f\"\\n{value}\")\n",
        "\n"
      ],
      "metadata": {
        "id": "fGToTbUw-ZNQ",
        "outputId": "08e8ab08-9260-4e5a-c655-bb286929fc5e",
        "colab": {
          "base_uri": "https://localhost:8080/"
        }
      },
      "execution_count": 12,
      "outputs": [
        {
          "output_type": "stream",
          "name": "stdout",
          "text": [
            "\n",
            "El nilo atraviesa egipto\n",
            "\n",
            "El amazonas atraviesa peru\n",
            "\n",
            "El de la plata atraviesa argentina\n",
            "\n",
            "nilo\n",
            "\n",
            "amazonas\n",
            "\n",
            "de la plata\n",
            "\n",
            "egipto\n",
            "\n",
            "peru\n",
            "\n",
            "argentina\n"
          ]
        }
      ]
    },
    {
      "cell_type": "markdown",
      "source": [
        "---\n",
        "\n",
        "<b> Ejercicio 2</b>\n",
        "\n",
        "Haz una lista de las personas que deberían participar en la encuesta de idiomas favoritos. Incluye algunos nombres que ya estén en el diccionario y otros que no.\n",
        "Recorra la lista de personas que deberían realizar la encuesta. Si ya han realizado la encuesta, imprima un mensaje agradeciéndoles por responder. Si aún no han realizado la encuesta, imprima un mensaje invitándoles a realizar la encuesta.\n",
        "\n",
        "---"
      ],
      "metadata": {
        "id": "aSr26WfmkSSv"
      }
    },
    {
      "cell_type": "code",
      "source": [
        "personas_encuestas = {\n",
        "    'guillermo':'si',\n",
        "    'guicela':'si',\n",
        "    'monica':'si',\n",
        "    'sofia':'no',\n",
        "    'barbara':'no',\n",
        "    'martha':'si',\n",
        "    'sonia':'si',\n",
        "    'paty':'no',\n",
        "    'jessy':'si',\n",
        "  }\n",
        "\n",
        "for key, value in personas_encuestas.items():\n",
        "    if (value) == 'si':\n",
        "      print(f\"{key}, Gracias por responder la encuesta\\n'\")\n",
        "    else:\n",
        "      print(f\"{key}, No olvides realizar la enuesta\\n'\")"
      ],
      "metadata": {
        "id": "aqualFFzqzP1",
        "outputId": "15c164d6-792a-4b74-fa63-0de26482074d",
        "colab": {
          "base_uri": "https://localhost:8080/"
        }
      },
      "execution_count": 21,
      "outputs": [
        {
          "output_type": "stream",
          "name": "stdout",
          "text": [
            "guillermo, Gracias por responder la encuesta\n",
            "'\n",
            "guicela, Gracias por responder la encuesta\n",
            "'\n",
            "monica, Gracias por responder la encuesta\n",
            "'\n",
            "sofia, No olvides realizar la enuesta\n",
            "'\n",
            "barbara, No olvides realizar la enuesta\n",
            "'\n",
            "martha, Gracias por responder la encuesta\n",
            "'\n",
            "sonia, Gracias por responder la encuesta\n",
            "'\n",
            "paty, No olvides realizar la enuesta\n",
            "'\n",
            "jessy, Gracias por responder la encuesta\n",
            "'\n"
          ]
        }
      ]
    },
    {
      "cell_type": "markdown",
      "source": [
        "<b> Ejercicio 1</b>\n",
        "\n",
        "Cree tres nuevos diccionarios que representen a diferentes personas y almacene los tres diccionarios en una lista llamada personas. Recorra su lista de personas. Mientras recorre la lista, imprima todo lo que sabe sobre cada persona.\n"
      ],
      "metadata": {
        "id": "3JJTjbfhmwks"
      }
    },
    {
      "cell_type": "code",
      "source": [
        "\n",
        "persona_0 = {'nombre': 'guillermo', 'distrito':'san borja' , 'edad': 52}\n",
        "persona_1 = {'nombre': 'monica', 'distrito':'surco', 'edad': 49}\n",
        "persona_2 = {'nombre': 'sofia', 'distrito':'la molina', 'edad': 7}\n",
        "\n",
        "personas = [persona_0, persona_1, persona_2]\n",
        "\n",
        "for persona in personas:\n",
        "  print(persona)\n"
      ],
      "metadata": {
        "id": "dBskKQ4lwHfu",
        "outputId": "8b86c828-a730-4ccc-bc77-24f4425da254",
        "colab": {
          "base_uri": "https://localhost:8080/"
        }
      },
      "execution_count": 27,
      "outputs": [
        {
          "output_type": "stream",
          "name": "stdout",
          "text": [
            "{'nombre': 'guillermo', 'distrito': 'san borja', 'edad': 52}\n",
            "{'nombre': 'monica', 'distrito': 'surco', 'edad': 49}\n",
            "{'nombre': 'sofia', 'distrito': 'la molina', 'edad': 7}\n"
          ]
        }
      ]
    },
    {
      "cell_type": "markdown",
      "source": [
        "---\n",
        "\n",
        "<b> Ejercicio 2</b>\n",
        "\n",
        "Haga varios diccionarios, donde cada diccionario represente una mascota diferente. En cada diccionario, incluya el tipo de animal y el nombre del dueño. Guarde estos diccionarios en una lista llamada mascotas. A continuación, recorra su lista y, mientras lo hace, imprima todo lo que sepa sobre cada mascota."
      ],
      "metadata": {
        "id": "oU2XiQHAnAtB"
      }
    },
    {
      "cell_type": "code",
      "source": [
        "mascota_0 = {'tipo de animal': 'conejo', 'nombre de dueño':'guillermo'}\n",
        "mascota_1 = {'tipo de animal': 'perro', 'nombre de dueño':'sofia'}\n",
        "mascota_2 = {'tipo de animal': 'gato', 'nombre de dueño':'fiorella'}\n",
        "\n",
        "mascotas = [mascota_0, mascota_1, mascota_2]\n",
        "\n",
        "for mascota in mascotas:\n",
        "  print(mascota)"
      ],
      "metadata": {
        "id": "QHKrOnGl0a0W",
        "outputId": "c35eb858-5a78-4ff5-81df-c035ef73a042",
        "colab": {
          "base_uri": "https://localhost:8080/"
        }
      },
      "execution_count": 28,
      "outputs": [
        {
          "output_type": "stream",
          "name": "stdout",
          "text": [
            "{'tipo de animal': 'conejo', 'nombre de dueño': 'guillermo'}\n",
            "{'tipo de animal': 'perro', 'nombre de dueño': 'sofia'}\n",
            "{'tipo de animal': 'gato', 'nombre de dueño': 'fiorella'}\n"
          ]
        }
      ]
    },
    {
      "cell_type": "markdown",
      "source": [
        "---\n",
        "\n",
        "<b> Ejercicio 3</b>\n",
        "\n",
        "Haga un diccionario llamado lugares_favoritos. Piense en tres nombres para usar como llaves en el diccionario y almacene de uno a tres lugares favoritos para cada persona. Recorre el diccionario e imprime el nombre de cada persona y sus lugares favoritos."
      ],
      "metadata": {
        "id": "YH2BoPpVnMLu"
      }
    },
    {
      "cell_type": "code",
      "source": [
        "persona_0 = {'sofia','iquitos', 'trujillo'}\n",
        "persona_1 = {'monica','trujillo', 'huaraz', 'piura'}\n",
        "persona_2 = {'guicela','tumbes', 'piura', 'talara'}\n",
        "\n",
        "lugares_favoritos = [persona_0, persona_1, persona_2]\n",
        "\n",
        "for lugares in lugares_favoritos:\n",
        "  print(lugares)"
      ],
      "metadata": {
        "id": "bzSImBKy1fSn",
        "outputId": "351cdde6-a1d1-448b-e11b-cc6eb35f01a6",
        "colab": {
          "base_uri": "https://localhost:8080/"
        }
      },
      "execution_count": 31,
      "outputs": [
        {
          "output_type": "stream",
          "name": "stdout",
          "text": [
            "{'sofia', 'iquitos', 'trujillo'}\n",
            "{'piura', 'trujillo', 'monica', 'huaraz'}\n",
            "{'tumbes', 'talara', 'guicela', 'piura'}\n"
          ]
        }
      ]
    },
    {
      "cell_type": "markdown",
      "source": [
        "---\n",
        "\n",
        "<b> Ejercicio 4</b>\n",
        "\n",
        "Haz un diccionario llamado ciudades. Usa los nombres de tres ciudades como llaves en tu diccionario. Cree un diccionario de información sobre cada ciudad e incluya el país en el que se encuentra la ciudad, su población aproximada y un dato sobre esa ciudad. Las claves para el diccionario de cada ciudad deben ser algo como país, población y hecho. Imprime el nombre de cada ciudad y toda la información que tengas almacenada sobre ella."
      ],
      "metadata": {
        "id": "YjkTHXHWnY-y"
      }
    },
    {
      "cell_type": "code",
      "source": [
        "lima = {'pais':'Perú','poblacion':'8,5 millones de habitantes', 'clima':'templado'}\n",
        "santa_cruz = {'pais':'Bolivia','poblacion':'273.964 habitantes', 'clima':'frio'}\n",
        "buenos_aires = {'pais':'Argentina','poblacion':'2.890.151 habitantes', 'clima':'calido'}\n",
        "\n",
        "ciudades = [lima, santa_cruz, buenos_aires]\n",
        "\n",
        "for ciudad in ciudades:\n",
        "  print(ciudad)"
      ],
      "metadata": {
        "id": "oEu00fSC4sM_",
        "outputId": "83d20c2d-99ff-4f61-8808-94dc8c028d79",
        "colab": {
          "base_uri": "https://localhost:8080/"
        }
      },
      "execution_count": 33,
      "outputs": [
        {
          "output_type": "stream",
          "name": "stdout",
          "text": [
            "{'pais': 'Perú', 'poblacion': '8,5 millones de habitantes', 'clima': 'templado'}\n",
            "{'pais': 'Bolivia', 'poblacion': '273.964 habitantes', 'clima': 'frio'}\n",
            "{'pais': 'Argentina', 'poblacion': '2.890.151 habitantes', 'clima': 'calido'}\n"
          ]
        }
      ]
    },
    {
      "cell_type": "markdown",
      "source": [
        "---\n",
        "\n",
        "<b> Ejercicio 5</b>\n",
        "\n",
        "Ahora estamos trabajando con ejemplos que son lo suficientemente complejos como para que puedan extenderse de varias maneras. Utilice uno de los programas de este laboratorio y amplíelo agregando nuevas claves y valores, cambiando el contexto del programa o mejorando el formato de la salida.\n",
        "\n",
        "---"
      ],
      "metadata": {
        "id": "hMvNIar-nqAr"
      }
    },
    {
      "cell_type": "code",
      "source": [
        "sukoi22 = {'fabricante':'OKB Sukhoi','pais':'Rusia','costo':'1,2 millones de dolares', 'Año fabricación':'1976'}\n",
        "mirage2000 = {'fabricante':'Dassault','pais':'Francia','costo':'23 millones dolares', 'Año fabricación':'1984'}\n",
        "mig29 = {'fabricante':'Mikoyan','pais':'Rusia','costo':'30 millones dolares', 'Año fabricación':'1992'}\n",
        "\n",
        "aviones = [sukoi22, mirage2000, mig29]\n",
        "\n",
        "for avion in aviones:\n",
        "  print(avion)"
      ],
      "metadata": {
        "id": "ZRGAeRXb84zn",
        "outputId": "d64027dd-00cc-48a3-ae0b-c0bc31685f6a",
        "colab": {
          "base_uri": "https://localhost:8080/"
        }
      },
      "execution_count": 38,
      "outputs": [
        {
          "output_type": "stream",
          "name": "stdout",
          "text": [
            "{'fabricante': 'OKB Sukhoi', 'pais': 'Rusia', 'costo': '1,2 millones de dolares', 'Año fabricación': '1976'}\n",
            "{'fabricante': 'Dassault', 'pais': 'Francia', 'costo': '23 millones dolares', 'Año fabricación': '1984'}\n",
            "{'fabricante': 'Mikoyan', 'pais': 'Rusia', 'costo': '30 millones dolares', 'Año fabricación': '1992'}\n"
          ]
        }
      ]
    }
  ]
}