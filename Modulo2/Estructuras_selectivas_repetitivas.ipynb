{
  "nbformat": 4,
  "nbformat_minor": 0,
  "metadata": {
    "colab": {
      "name": "modulo 2.ipynb",
      "provenance": [],
      "include_colab_link": true
    },
    "kernelspec": {
      "name": "python3",
      "display_name": "Python 3"
    },
    "language_info": {
      "name": "python"
    }
  },
  "cells": [
    {
      "cell_type": "markdown",
      "metadata": {
        "id": "view-in-github",
        "colab_type": "text"
      },
      "source": [
        "<a href=\"https://colab.research.google.com/github/fredy29/Python1_TraFin_GuillermoPezo/blob/main/Modulo2/Estructuras_selectivas_repetitivas.ipynb\" target=\"_parent\"><img src=\"https://colab.research.google.com/assets/colab-badge.svg\" alt=\"Open In Colab\"/></a>"
      ]
    },
    {
      "cell_type": "markdown",
      "source": [
        "<img src=\"https://www.ctic.uni.edu.pe/wp-content/uploads/2022/04/588px-x-348px-web-1.png\" alt=\"HTML5 Icon\" width=\"900\" height=\"350\" >\n"
      ],
      "metadata": {
        "id": "qCg1zV0_DK0j"
      }
    },
    {
      "cell_type": "markdown",
      "source": [
        "<h1 align=center><font size = 5>UNIDAD II - ESTRUCTURAS SELECTIVAS Y REPETITIVAS\n",
        "</font></h1>\n",
        "\n",
        "---"
      ],
      "metadata": {
        "id": "XJ-qSpecBnPA"
      }
    },
    {
      "cell_type": "markdown",
      "source": [
        "## Tabla de Contenidos\n",
        "\n",
        "<div class=\"alert alert-block alert-info\" style=\"margin-top: 20px\">\n",
        "\n",
        "<font size = 3>\n",
        "    \n",
        "1. <a href=\"#item31\">Introducción al entorno Python</a>  \n",
        "2. <a href=\"#item31\">Sentencias IF</a>  \n",
        "3. <a href=\"#item31\">Sentencias While</a>  \n",
        "4. <a href=\"#item31\">Sentencias For</a>  \n",
        "\n",
        "</font>\n",
        "</div>\n",
        "\n",
        "---"
      ],
      "metadata": {
        "id": "-METXVBCB-AX"
      }
    },
    {
      "cell_type": "markdown",
      "source": [
        "<b> Ejercicio 1</b>\n",
        "\n",
        "Imagina que un extraterrestre acaba de ser derribado en un juego. Cree una variable llamada alien_color y asígnele un valor de 'verde', 'amarillo' o 'rojo'.\n",
        "\n",
        "Escribe una declaración if para probar si el color del extraterrestre es verde. Si es así, imprime un mensaje de que el jugador acaba de ganar 5 puntos."
      ],
      "metadata": {
        "id": "Y-WZOmge-ddV"
      }
    },
    {
      "cell_type": "code",
      "source": [
        "#EJERCICIO 1\n",
        "alien_color = str(input('Ingrese el color del Alien: '))\n",
        "\n",
        "if alien_color.lower() == 'verde':\n",
        "  print('Ud acaba de ganar 5 puntos!!!')\n",
        "\n",
        "print('Gracias por participar')\n"
      ],
      "metadata": {
        "id": "C3xqdvqY2fKu",
        "outputId": "6a7b4e80-16f7-4bfd-f0c4-be1a112964b4",
        "colab": {
          "base_uri": "https://localhost:8080/"
        }
      },
      "execution_count": null,
      "outputs": [
        {
          "output_type": "stream",
          "name": "stdout",
          "text": [
            "Ingrese el color del Alien: rojo\n",
            "Gracias por participar\n"
          ]
        }
      ]
    },
    {
      "cell_type": "markdown",
      "source": [
        "<b> Ejercicio 2</b>\n",
        "\n",
        "Elija un color para un extraterrestre como lo hizo en el Ejercicio anterior y escriba una cadena if-else.\n",
        "\n",
        "Si el alienígena es verde, imprime un mensaje de que el jugador obtuvo 5 puntos.\n",
        "Si el alienígena es amarillo, imprime un mensaje de que el jugador obtuvo 10 puntos.\n",
        "Si el alienígena es rojo, imprime un mensaje de que el jugador obtuvo 15 puntos."
      ],
      "metadata": {
        "id": "fe2t6tUu-_sX"
      }
    },
    {
      "cell_type": "code",
      "source": [
        "#EJERCICIO 2\n",
        "alien_color = str(input('Ingrese el color del Alien: '))\n",
        "\n",
        "if alien_color.lower() == 'verde':\n",
        "  print('Ud acaba de ganar 5 puntpos!!!')\n",
        "elif alien_color.lower() == 'amarillo':\n",
        "  print('Ud acaba de ganar 10 puntpos!!!')\n",
        "elif alien_color.lower() == 'rojo':\n",
        "  print('Ud acaba de ganar 15 puntpos!!!')\n",
        "print('Gracias por participar')"
      ],
      "metadata": {
        "id": "dcc3ibjB4ziG",
        "outputId": "6ca81d27-274d-4af9-bd6b-17d54d6f8570",
        "colab": {
          "base_uri": "https://localhost:8080/"
        }
      },
      "execution_count": null,
      "outputs": [
        {
          "output_type": "stream",
          "name": "stdout",
          "text": [
            "Ingrese el color del Alien: amarillo\n",
            "Ud acaba de ganar 10 puntpos!!!\n",
            "Gracias por participar\n"
          ]
        }
      ]
    },
    {
      "cell_type": "markdown",
      "source": [
        "<b> Ejercicio 1</b>\n",
        "\n",
        "Escriba un ciclo que solicite al usuario que ingrese una serie de ingredientes para la pizza hasta que ingrese un valor de 'salir'. A medida que ingresen cada ingrediente, imprima un mensaje que diga que agregará ese ingrediente a su pizza."
      ],
      "metadata": {
        "id": "NzzH8uoCFAMM"
      }
    },
    {
      "cell_type": "code",
      "source": [
        "#EJERCICIO 1\n",
        "\n",
        "active = True\n",
        "while active:\n",
        "  ingrediente = str(input('Ingrese Ingrediente : '))\n",
        "   \n",
        "  if ingrediente == 'salir':\n",
        "    active = False\n",
        "  else:\n",
        "    print('Se agregará '+ingrediente+' a su pizza')\n"
      ],
      "metadata": {
        "id": "ZUjOlthYXjpk",
        "outputId": "4a10136b-fd69-450d-a59c-157d1102327b",
        "colab": {
          "base_uri": "https://localhost:8080/"
        }
      },
      "execution_count": null,
      "outputs": [
        {
          "name": "stdout",
          "output_type": "stream",
          "text": [
            "Ingrese Ingrediente : tomate\n",
            "Se agregará tomate a su pizza\n",
            "Ingrese Ingrediente : queso\n",
            "Se agregará queso a su pizza\n",
            "Ingrese Ingrediente : salir\n"
          ]
        }
      ]
    },
    {
      "cell_type": "markdown",
      "source": [
        "<b> Ejercicio 2</b>\n",
        "\n",
        "Un cine cobra diferentes precios de boletos dependiendo de la edad de una persona. Si una persona es menor de 3 años, la entrada es gratuita; si son entre 3 y 12, el boleto cuesta s/. 10; y si son mayores de 12 años, el boleto cuesta s/. 15. Escriba un ciclo en el que pregunte a los usuarios su edad y luego dígales el costo de su boleto de cine."
      ],
      "metadata": {
        "id": "ATFL1LTaFDoF"
      }
    },
    {
      "cell_type": "code",
      "source": [
        "#EJERCICIO 2\n",
        "\n",
        "active = True\n",
        "while active:\n",
        "  edad = int(input('Ingrese su Edad : '))\n",
        "   \n",
        "  if edad<3:\n",
        "    print('La entrada es Gratuita')\n",
        "  elif edad>=3 and edad<=12: \n",
        "    print('Boleto le cuesta S/10')\n",
        "  elif edad>12: \n",
        "    print('Boleto le cuesta S/15')\n",
        "    \n",
        "  active = False\n",
        "  "
      ],
      "metadata": {
        "id": "tkaT5yKSpl78",
        "outputId": "527e2033-8e45-42bb-a02c-aafb71542b50",
        "colab": {
          "base_uri": "https://localhost:8080/"
        }
      },
      "execution_count": 32,
      "outputs": [
        {
          "output_type": "stream",
          "name": "stdout",
          "text": [
            "Ingrese su Edad : 18\n",
            "Boleto le cuesta S/15\n"
          ]
        }
      ]
    },
    {
      "cell_type": "markdown",
      "source": [
        "<b> Ejercicio 1</b>\n",
        "\n",
        "\n",
        "Piensa en al menos tres tipos de tu pizza favorita. Almacene estos nombres de pizza en una lista y luego use un ciclo for para imprimir el nombre de cada pizza.\n",
        "\n",
        "Modifique su ciclo for para imprimir una oración usando el nombre de la pizza en lugar de imprimir solo el nombre de la pizza. Para cada pizza, debe tener una línea de salida que contenga una declaración simple como Me gusta la pizza de pepperoni.\n",
        "Agregue una línea al final de su programa, fuera del bucle for, que indique cuánto le gusta la pizza. El resultado debe constar de tres o más líneas sobre los tipos de pizza que te gustan y luego una oración adicional, como ¡Me encanta la pizza!\n"
      ],
      "metadata": {
        "id": "FHwT_HI5Hedh"
      }
    },
    {
      "cell_type": "code",
      "source": [
        "#EJERCICIO 1\n",
        "\n",
        "tipizza = ['Hawaiana', 'de Pollo', 'Vegetariana']\n",
        "\n",
        "for tipizzas in tipizza:\n",
        "    print(f\"La mejor pizza {tipizzas.title()} esta en Jominos\")\n",
        "    print(f\"Me gusta la Pizza {tipizzas.title()}!\\n\")\n",
        "\n",
        "print(\"¡Me encanta la Pizza !\")"
      ],
      "metadata": {
        "id": "EksyHsEufhCE",
        "outputId": "27244e36-eb64-4486-b6f4-797ad7a2d73f",
        "colab": {
          "base_uri": "https://localhost:8080/"
        }
      },
      "execution_count": 26,
      "outputs": [
        {
          "output_type": "stream",
          "name": "stdout",
          "text": [
            "La mejor pizza Hawaiana esta en Jominos\n",
            "Me gusta la Pizza Hawaiana!\n",
            "\n",
            "La mejor pizza De Pollo esta en Jominos\n",
            "Me gusta la Pizza De Pollo!\n",
            "\n",
            "La mejor pizza Vegetariana esta en Jominos\n",
            "Me gusta la Pizza Vegetariana!\n",
            "\n",
            "¡Me encanta la Pizza !\n"
          ]
        }
      ]
    },
    {
      "cell_type": "markdown",
      "source": [
        "<b> Ejercicio 2</b>\n",
        "\n",
        "Piensa en al menos tres animales diferentes que tengan una característica común. Guarde los nombres de estos animales en una lista y luego use un ciclo for para imprimir el nombre de cada animal.\n",
        "\n",
        "Modifique su programa para imprimir una declaración sobre cada animal, como Un perro sería una gran mascota.\n",
        "Agregue una línea al final de su programa indicando lo que estos animales tienen en común. Podría escribir una oración como ¡Cualquiera de estos animales sería una gran mascota!"
      ],
      "metadata": {
        "id": "CBNrK6wXHnEm"
      }
    },
    {
      "cell_type": "code",
      "source": [
        "#EJERCICIO 2\n",
        "\n",
        "animal = ['Perro', 'Gato', 'Loro']\n",
        "\n",
        "for animales in animal:\n",
        "    print(f\"Un {animales.title()} sería una gran mascota\\n\")\n",
        "\n",
        "print(\"¡Cualquiera de estos animales sería una gran mascota!\")"
      ],
      "metadata": {
        "id": "xqCD-jRPkheS",
        "outputId": "58d28a72-6e16-4332-9786-207ba2f79130",
        "colab": {
          "base_uri": "https://localhost:8080/"
        }
      },
      "execution_count": 27,
      "outputs": [
        {
          "output_type": "stream",
          "name": "stdout",
          "text": [
            "Un Perro sería una gran mascota\n",
            "\n",
            "Un Gato sería una gran mascota\n",
            "\n",
            "Un Loro sería una gran mascota\n",
            "\n",
            "¡Cualquiera de estos animales sería una gran mascota!\n"
          ]
        }
      ]
    }
  ]
}